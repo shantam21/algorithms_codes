{
 "cells": [
  {
   "cell_type": "code",
   "execution_count": null,
   "metadata": {},
   "outputs": [],
   "source": [
    "#  referred from https://realpython.com/python-thinking-recursively/"
   ]
  },
  {
   "cell_type": "code",
   "execution_count": 1,
   "metadata": {},
   "outputs": [
    {
     "output_type": "execute_result",
     "data": {
      "text/plain": "120"
     },
     "metadata": {},
     "execution_count": 1
    }
   ],
   "source": [
    "#  code for factorial n\n",
    "\n",
    "def fact_n(n):\n",
    "\n",
    "    if n == 1:\n",
    "        return 1\n",
    "    else:\n",
    "        return n*fact_n(n-1)\n",
    "\n",
    "fact_n(5)"
   ]
  },
  {
   "cell_type": "code",
   "execution_count": 3,
   "metadata": {},
   "outputs": [
    {
     "output_type": "execute_result",
     "data": {
      "text/plain": "105"
     },
     "metadata": {},
     "execution_count": 3
    }
   ],
   "source": [
    "# rescursive sum \n",
    "def recursive_sum(current_number, acc_sum):\n",
    "    if current_number == 15:\n",
    "        return acc_sum\n",
    "    else:\n",
    "        return recursive_sum(current_number +1, acc_sum + current_number)\n",
    "\n",
    "recursive_sum(1,0)\n"
   ]
  },
  {
   "cell_type": "code",
   "execution_count": 4,
   "metadata": {},
   "outputs": [
    {
     "output_type": "execute_result",
     "data": {
      "text/plain": "105"
     },
     "metadata": {},
     "execution_count": 4
    }
   ],
   "source": [
    "#  to maintain state keep the state in the global scope\n",
    "current_number = 1\n",
    "acc_sum = 0\n",
    "def recursive_sum():\n",
    "    global current_number\n",
    "    global acc_sum\n",
    "\n",
    "    if current_number == 15:\n",
    "        return acc_sum\n",
    "    else:\n",
    "        acc_sum =  acc_sum + current_number\n",
    "        current_number+=1\n",
    "        return recursive_sum()\n",
    "\n",
    "recursive_sum()\n",
    "\n",
    "\n"
   ]
  },
  {
   "cell_type": "code",
   "execution_count": 5,
   "metadata": {},
   "outputs": [
    {
     "output_type": "execute_result",
     "data": {
      "text/plain": "[1, 46, -31, 'hello']"
     },
     "metadata": {},
     "execution_count": 5
    }
   ],
   "source": [
    "#  recursive data structures\n",
    "#  list\n",
    "\n",
    "# Return a new list that is the result of\n",
    "# adding element to the head (i.e. front) of input_list\n",
    "def attach_head(element, input_list):\n",
    "    return [element] + input_list\n",
    "\n",
    "\n",
    "attach_head(1,                                                  # Will return [1, 46, -31, \"hello\"]\n",
    "            attach_head(46,                                     # Will return [46, -31, \"hello\"]\n",
    "                        attach_head(-31,                        # Will return [-31, \"hello\"]\n",
    "                                    attach_head(\"hello\", [])))) # Will return [\"hello\"]"
   ]
  },
  {
   "cell_type": "code",
   "execution_count": 6,
   "metadata": {},
   "outputs": [
    {
     "output_type": "execute_result",
     "data": {
      "text/plain": "19"
     },
     "metadata": {},
     "execution_count": 6
    }
   ],
   "source": [
    "def list_sum_recursion(input_list):\n",
    "\n",
    "    if input_list == []:\n",
    "        return 0\n",
    "    \n",
    "    else:\n",
    "        head = input_list[0]\n",
    "        tail = input_list[1:]\n",
    "        return head + list_sum_recursion(tail)\n",
    "\n",
    "list_sum_recursion([1,6,5,4,3])"
   ]
  },
  {
   "cell_type": "code",
   "execution_count": 14,
   "metadata": {},
   "outputs": [
    {
     "output_type": "stream",
     "name": "stdout",
     "text": "Calculating F(5), Calculating F(4), Calculating F(3), Calculating F(2), Calculating F(1), Calculating F(0), Calculating F(1), Calculating F(2), Calculating F(1), Calculating F(0), Calculating F(3), Calculating F(2), Calculating F(1), Calculating F(0), Calculating F(1),"
    },
    {
     "output_type": "execute_result",
     "data": {
      "text/plain": "5"
     },
     "metadata": {},
     "execution_count": 14
    }
   ],
   "source": [
    "def fibonacci_rec(n):\n",
    "        # Base case\n",
    "    print(\"Calculating F\", \"(\", n, \")\", sep=\"\", end=\", \")\n",
    "    if n == 0:\n",
    "        return 0\n",
    "    elif n == 1:\n",
    "        return 1\n",
    "\n",
    "    # Recursive case\n",
    "    else:\n",
    "        return fibonacci_rec(n-1) + fibonacci_rec(n-2)\n",
    "\n",
    "fibonacci_rec(5)\n"
   ]
  },
  {
   "cell_type": "code",
   "execution_count": 16,
   "metadata": {},
   "outputs": [
    {
     "output_type": "stream",
     "name": "stdout",
     "text": "Calculating F(5), Calculating F(4), Calculating F(3), Calculating F(2), Calculating F(1), Calculating F(0),"
    },
    {
     "output_type": "execute_result",
     "data": {
      "text/plain": "5"
     },
     "metadata": {},
     "execution_count": 16
    }
   ],
   "source": [
    "from functools import lru_cache\n",
    "\n",
    "@lru_cache(maxsize=None)\n",
    "def fibonacci_rec(n):\n",
    "    print(\"Calculating F\", \"(\", n, \")\", sep=\"\", end=\", \")\n",
    "        # Base case\n",
    "    if n == 0:\n",
    "        return 0\n",
    "    elif n == 1:\n",
    "        return 1\n",
    "\n",
    "    # Recursive case\n",
    "    else:\n",
    "        return fibonacci_rec(n-1) + fibonacci_rec(n-2)\n",
    "\n",
    "fibonacci_rec(5)\n",
    "\n",
    "# lru_cache is a decorator that caches the results. Thus, we avoid recomputation by explicitly checking for the value before trying to compute it. One thing to keep in mind about lru_cache is that since it uses a dictionary to cache results, the positional and keyword arguments (which serve as keys in that dictionary) to the function must be hashable."
   ]
  },
  {
   "cell_type": "code",
   "execution_count": 17,
   "metadata": {},
   "outputs": [
    {
     "output_type": "execute_result",
     "data": {
      "text/plain": "3000"
     },
     "metadata": {},
     "execution_count": 17
    }
   ],
   "source": [
    "import sys\n",
    "sys.getrecursionlimit()"
   ]
  },
  {
   "cell_type": "code",
   "execution_count": null,
   "metadata": {},
   "outputs": [],
   "source": []
  }
 ],
 "metadata": {
  "language_info": {
   "codemirror_mode": {
    "name": "ipython",
    "version": 3
   },
   "file_extension": ".py",
   "mimetype": "text/x-python",
   "name": "python",
   "nbconvert_exporter": "python",
   "pygments_lexer": "ipython3",
   "version": "3.7.0-final"
  },
  "orig_nbformat": 2,
  "kernelspec": {
   "name": "python37064bitcc7a68cd9de247ac8522ebb20767e50a",
   "display_name": "Python 3.7.0 64-bit"
  }
 },
 "nbformat": 4,
 "nbformat_minor": 2
}